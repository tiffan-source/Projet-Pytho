{
 "cells": [
  {
   "cell_type": "code",
   "execution_count": 2,
   "id": "4e002cb9",
   "metadata": {},
   "outputs": [
    {
     "name": "stdout",
     "output_type": "stream",
     "text": [
      "entrer une chaine de caractère: JIBEIBV567DCNIW678CD 5665CDCEUDF 3456\n",
      "['CD 5665', 'DF 3456']\n",
      "les numéros de plaques présents dans la chaine de caractère sont: \n",
      "CD 5665\n",
      "DF 3456\n"
     ]
    }
   ],
   "source": [
    "##Membre du groupe 1\n",
    "##ZOHOUNGBOGBO Anlyou\n",
    "##YANCLO Paule\n",
    "##TETEDE Diane\n",
    "##LONMADON Géofroid\n",
    "\n",
    "##Projet 3\n",
    "\n",
    "import re\n",
    "z = re.compile(\"([A-Z]{2}[ ][0-9]{4})\")\n",
    "valeur = True\n",
    "matriculation = input(\"entrer une chaine de caractère: \")\n",
    "print(z.findall(matriculation))\n",
    "if(z.findall(matriculation)!=[]):\n",
    "    a = list(z.findall(matriculation))\n",
    "    print(\"les numéros de plaques présents dans la chaine de caractère sont: \")\n",
    "    for i in range (len(a)):\n",
    "        print(a[i])\n",
    "    return True\n",
    "else: \n",
    "    valeur = False\n",
    "    print(\"rien n'a été trouvé\")\n",
    "    return False"
   ]
  },
  {
   "cell_type": "code",
   "execution_count": null,
   "id": "9032f4fa",
   "metadata": {},
   "outputs": [],
   "source": []
  },
  {
   "cell_type": "code",
   "execution_count": null,
   "id": "6db34bbb",
   "metadata": {},
   "outputs": [],
   "source": []
  }
 ],
 "metadata": {
  "kernelspec": {
   "display_name": "Python 3",
   "language": "python",
   "name": "python3"
  },
  "language_info": {
   "codemirror_mode": {
    "name": "ipython",
    "version": 3
   },
   "file_extension": ".py",
   "mimetype": "text/x-python",
   "name": "python",
   "nbconvert_exporter": "python",
   "pygments_lexer": "ipython3",
   "version": "3.8.10"
  }
 },
 "nbformat": 4,
 "nbformat_minor": 5
}
